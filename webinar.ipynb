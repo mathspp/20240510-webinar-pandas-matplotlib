{
 "cells": [
  {
   "cell_type": "code",
   "execution_count": null,
   "id": "274a4fe1-0e98-4e08-bc19-e96864a9b9ec",
   "metadata": {},
   "outputs": [],
   "source": []
  }
 ],
 "metadata": {
  "kernelspec": {
   "display_name": "",
   "name": ""
  },
  "language_info": {
   "name": ""
  }
 },
 "nbformat": 4,
 "nbformat_minor": 5
}
