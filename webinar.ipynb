{
 "cells": [
  {
   "cell_type": "code",
   "execution_count": 4,
   "id": "274a4fe1-0e98-4e08-bc19-e96864a9b9ec",
   "metadata": {},
   "outputs": [
    {
     "name": "stdout",
     "output_type": "stream",
     "text": [
      "The history saving thread hit an unexpected error (OperationalError('attempt to write a readonly database')).History will not be written to the database.\n"
     ]
    }
   ],
   "source": [
    "import pandas as pd"
   ]
  },
  {
   "cell_type": "code",
   "execution_count": 5,
   "id": "e805118c-f227-48fa-ae26-8c5a3c4895fa",
   "metadata": {},
   "outputs": [],
   "source": [
    "pokemon = pd.read_csv(\"pokemon.csv\")"
   ]
  },
  {
   "cell_type": "code",
   "execution_count": 6,
   "id": "4f236296-9e5e-4ed1-b925-9c13724a7ab1",
   "metadata": {},
   "outputs": [
    {
     "data": {
      "text/html": [
       "<div>\n",
       "<style scoped>\n",
       "    .dataframe tbody tr th:only-of-type {\n",
       "        vertical-align: middle;\n",
       "    }\n",
       "\n",
       "    .dataframe tbody tr th {\n",
       "        vertical-align: top;\n",
       "    }\n",
       "\n",
       "    .dataframe thead th {\n",
       "        text-align: right;\n",
       "    }\n",
       "</style>\n",
       "<table border=\"1\" class=\"dataframe\">\n",
       "  <thead>\n",
       "    <tr style=\"text-align: right;\">\n",
       "      <th></th>\n",
       "      <th>national_number</th>\n",
       "      <th>gen</th>\n",
       "      <th>english_name</th>\n",
       "      <th>japanese_name</th>\n",
       "      <th>primary_type</th>\n",
       "      <th>secondary_type</th>\n",
       "      <th>classification</th>\n",
       "      <th>percent_male</th>\n",
       "      <th>percent_female</th>\n",
       "      <th>height_m</th>\n",
       "      <th>...</th>\n",
       "      <th>evochain_1</th>\n",
       "      <th>evochain_2</th>\n",
       "      <th>evochain_3</th>\n",
       "      <th>evochain_4</th>\n",
       "      <th>evochain_5</th>\n",
       "      <th>evochain_6</th>\n",
       "      <th>gigantamax</th>\n",
       "      <th>mega_evolution</th>\n",
       "      <th>mega_evolution_alt</th>\n",
       "      <th>description</th>\n",
       "    </tr>\n",
       "  </thead>\n",
       "  <tbody>\n",
       "    <tr>\n",
       "      <th>0</th>\n",
       "      <td>1</td>\n",
       "      <td>I</td>\n",
       "      <td>Bulbasaur</td>\n",
       "      <td>Fushigidane</td>\n",
       "      <td>grass</td>\n",
       "      <td>poison</td>\n",
       "      <td>Seed Pokémon</td>\n",
       "      <td>88.14</td>\n",
       "      <td>11.86</td>\n",
       "      <td>0.7</td>\n",
       "      <td>...</td>\n",
       "      <td>Level</td>\n",
       "      <td>Ivysaur</td>\n",
       "      <td>Level</td>\n",
       "      <td>Venusaur</td>\n",
       "      <td>NaN</td>\n",
       "      <td>NaN</td>\n",
       "      <td>NaN</td>\n",
       "      <td>NaN</td>\n",
       "      <td>NaN</td>\n",
       "      <td>There is a plant seed on its back right from t...</td>\n",
       "    </tr>\n",
       "    <tr>\n",
       "      <th>1</th>\n",
       "      <td>2</td>\n",
       "      <td>I</td>\n",
       "      <td>Ivysaur</td>\n",
       "      <td>Fushigisou</td>\n",
       "      <td>grass</td>\n",
       "      <td>poison</td>\n",
       "      <td>Seed Pokémon</td>\n",
       "      <td>88.14</td>\n",
       "      <td>11.86</td>\n",
       "      <td>1.0</td>\n",
       "      <td>...</td>\n",
       "      <td>Level</td>\n",
       "      <td>Ivysaur</td>\n",
       "      <td>Level</td>\n",
       "      <td>Venusaur</td>\n",
       "      <td>NaN</td>\n",
       "      <td>NaN</td>\n",
       "      <td>NaN</td>\n",
       "      <td>NaN</td>\n",
       "      <td>NaN</td>\n",
       "      <td>When the bulb on its back grows large, it appe...</td>\n",
       "    </tr>\n",
       "    <tr>\n",
       "      <th>2</th>\n",
       "      <td>3</td>\n",
       "      <td>I</td>\n",
       "      <td>Venusaur</td>\n",
       "      <td>Fushigibana</td>\n",
       "      <td>grass</td>\n",
       "      <td>poison</td>\n",
       "      <td>Seed Pokémon</td>\n",
       "      <td>88.14</td>\n",
       "      <td>11.86</td>\n",
       "      <td>2.0</td>\n",
       "      <td>...</td>\n",
       "      <td>Level</td>\n",
       "      <td>Ivysaur</td>\n",
       "      <td>Level</td>\n",
       "      <td>Venusaur</td>\n",
       "      <td>NaN</td>\n",
       "      <td>NaN</td>\n",
       "      <td>Gigantamax Venusaur</td>\n",
       "      <td>Mega Venusaur</td>\n",
       "      <td>NaN</td>\n",
       "      <td>Its plant blooms when it is absorbing solar en...</td>\n",
       "    </tr>\n",
       "    <tr>\n",
       "      <th>3</th>\n",
       "      <td>4</td>\n",
       "      <td>I</td>\n",
       "      <td>Charmander</td>\n",
       "      <td>Hitokage</td>\n",
       "      <td>fire</td>\n",
       "      <td>NaN</td>\n",
       "      <td>Lizard Pokémon</td>\n",
       "      <td>88.14</td>\n",
       "      <td>11.86</td>\n",
       "      <td>0.6</td>\n",
       "      <td>...</td>\n",
       "      <td>Level</td>\n",
       "      <td>Charmeleon</td>\n",
       "      <td>Level</td>\n",
       "      <td>Charizard</td>\n",
       "      <td>NaN</td>\n",
       "      <td>NaN</td>\n",
       "      <td>NaN</td>\n",
       "      <td>NaN</td>\n",
       "      <td>NaN</td>\n",
       "      <td>It has a preference for hot things. When it ra...</td>\n",
       "    </tr>\n",
       "    <tr>\n",
       "      <th>4</th>\n",
       "      <td>5</td>\n",
       "      <td>I</td>\n",
       "      <td>Charmeleon</td>\n",
       "      <td>Lizardo</td>\n",
       "      <td>fire</td>\n",
       "      <td>NaN</td>\n",
       "      <td>Flame Pokémon</td>\n",
       "      <td>88.14</td>\n",
       "      <td>11.86</td>\n",
       "      <td>1.1</td>\n",
       "      <td>...</td>\n",
       "      <td>Level</td>\n",
       "      <td>Charmeleon</td>\n",
       "      <td>Level</td>\n",
       "      <td>Charizard</td>\n",
       "      <td>NaN</td>\n",
       "      <td>NaN</td>\n",
       "      <td>NaN</td>\n",
       "      <td>NaN</td>\n",
       "      <td>NaN</td>\n",
       "      <td>It has a barbaric nature. In battle, it whips ...</td>\n",
       "    </tr>\n",
       "  </tbody>\n",
       "</table>\n",
       "<p>5 rows × 55 columns</p>\n",
       "</div>"
      ],
      "text/plain": [
       "   national_number gen english_name japanese_name primary_type secondary_type  \\\n",
       "0                1   I    Bulbasaur   Fushigidane        grass         poison   \n",
       "1                2   I      Ivysaur    Fushigisou        grass         poison   \n",
       "2                3   I     Venusaur   Fushigibana        grass         poison   \n",
       "3                4   I   Charmander      Hitokage         fire            NaN   \n",
       "4                5   I   Charmeleon       Lizardo         fire            NaN   \n",
       "\n",
       "   classification percent_male percent_female  height_m  ...  evochain_1  \\\n",
       "0    Seed Pokémon        88.14          11.86       0.7  ...      Level    \n",
       "1    Seed Pokémon        88.14          11.86       1.0  ...      Level    \n",
       "2    Seed Pokémon        88.14          11.86       2.0  ...      Level    \n",
       "3  Lizard Pokémon        88.14          11.86       0.6  ...      Level    \n",
       "4   Flame Pokémon        88.14          11.86       1.1  ...      Level    \n",
       "\n",
       "   evochain_2  evochain_3  evochain_4  evochain_5  evochain_6  \\\n",
       "0     Ivysaur      Level     Venusaur         NaN         NaN   \n",
       "1     Ivysaur      Level     Venusaur         NaN         NaN   \n",
       "2     Ivysaur      Level     Venusaur         NaN         NaN   \n",
       "3  Charmeleon      Level    Charizard         NaN         NaN   \n",
       "4  Charmeleon      Level    Charizard         NaN         NaN   \n",
       "\n",
       "            gigantamax  mega_evolution  mega_evolution_alt  \\\n",
       "0                  NaN             NaN                 NaN   \n",
       "1                  NaN             NaN                 NaN   \n",
       "2  Gigantamax Venusaur   Mega Venusaur                 NaN   \n",
       "3                  NaN             NaN                 NaN   \n",
       "4                  NaN             NaN                 NaN   \n",
       "\n",
       "                                         description  \n",
       "0  There is a plant seed on its back right from t...  \n",
       "1  When the bulb on its back grows large, it appe...  \n",
       "2  Its plant blooms when it is absorbing solar en...  \n",
       "3  It has a preference for hot things. When it ra...  \n",
       "4  It has a barbaric nature. In battle, it whips ...  \n",
       "\n",
       "[5 rows x 55 columns]"
      ]
     },
     "execution_count": 6,
     "metadata": {},
     "output_type": "execute_result"
    }
   ],
   "source": [
    "pokemon.head()"
   ]
  },
  {
   "cell_type": "code",
   "execution_count": 7,
   "id": "456c4bee-7089-4d10-9088-3e6a98806874",
   "metadata": {},
   "outputs": [
    {
     "data": {
      "text/plain": [
       "Index(['national_number', 'gen', 'english_name', 'japanese_name',\n",
       "       'primary_type', 'secondary_type', 'classification', 'percent_male',\n",
       "       'percent_female', 'height_m', 'weight_kg', 'capture_rate',\n",
       "       'base_egg_steps', 'hp', 'attack', 'defense', 'sp_attack', 'sp_defense',\n",
       "       'speed', 'abilities_0', 'abilities_1', 'abilities_2',\n",
       "       'abilities_hidden', 'against_normal', 'against_fire', 'against_water',\n",
       "       'against_electric', 'against_grass', 'against_ice', 'against_fighting',\n",
       "       'against_poison', 'against_ground', 'against_flying', 'against_psychic',\n",
       "       'against_bug', 'against_rock', 'against_ghost', 'against_dragon',\n",
       "       'against_dark', 'against_steel', 'against_fairy', 'is_sublegendary',\n",
       "       'is_legendary', 'is_mythical', 'evochain_0', 'evochain_1', 'evochain_2',\n",
       "       'evochain_3', 'evochain_4', 'evochain_5', 'evochain_6', 'gigantamax',\n",
       "       'mega_evolution', 'mega_evolution_alt', 'description'],\n",
       "      dtype='object')"
      ]
     },
     "execution_count": 7,
     "metadata": {},
     "output_type": "execute_result"
    }
   ],
   "source": [
    "pokemon.columns"
   ]
  },
  {
   "cell_type": "code",
   "execution_count": 8,
   "id": "7b987355-4ff5-417f-814e-bf6b348f1087",
   "metadata": {},
   "outputs": [
    {
     "data": {
      "text/plain": [
       "pandas.core.frame.DataFrame"
      ]
     },
     "execution_count": 8,
     "metadata": {},
     "output_type": "execute_result"
    }
   ],
   "source": [
    "type(pokemon)"
   ]
  },
  {
   "cell_type": "code",
   "execution_count": 9,
   "id": "622e1ac8-03bf-42ae-b641-2afd92830d63",
   "metadata": {},
   "outputs": [
    {
     "data": {
      "text/plain": [
       "0       Bulbasaur\n",
       "1         Ivysaur\n",
       "2        Venusaur\n",
       "3      Charmander\n",
       "4      Charmeleon\n",
       "          ...    \n",
       "893     Regieleki\n",
       "894     Regidrago\n",
       "895     Glastrier\n",
       "896     Spectrier\n",
       "897       Calyrex\n",
       "Name: english_name, Length: 898, dtype: object"
      ]
     },
     "execution_count": 9,
     "metadata": {},
     "output_type": "execute_result"
    }
   ],
   "source": [
    "pokemon[\"english_name\"]"
   ]
  },
  {
   "cell_type": "code",
   "execution_count": 10,
   "id": "64ce5292-7e40-4c5e-8624-f4f03c0ae99f",
   "metadata": {},
   "outputs": [
    {
     "data": {
      "text/plain": [
       "898"
      ]
     },
     "execution_count": 10,
     "metadata": {},
     "output_type": "execute_result"
    }
   ],
   "source": [
    "len(pokemon[\"english_name\"])"
   ]
  },
  {
   "cell_type": "code",
   "execution_count": 15,
   "id": "b982c6a1-227e-41c7-bdce-aecf33f4a9cf",
   "metadata": {},
   "outputs": [
    {
     "data": {
      "text/plain": [
       "pandas.core.series.Series"
      ]
     },
     "execution_count": 15,
     "metadata": {},
     "output_type": "execute_result"
    }
   ],
   "source": [
    "type(pokemon[\"english_name\"])"
   ]
  },
  {
   "cell_type": "code",
   "execution_count": 16,
   "id": "47ac90e0-9573-45cb-8293-5f544f4e58b5",
   "metadata": {},
   "outputs": [
    {
     "data": {
      "text/plain": [
       "0       Bulbasaur\n",
       "1         Ivysaur\n",
       "2        Venusaur\n",
       "3      Charmander\n",
       "4      Charmeleon\n",
       "          ...    \n",
       "893     Regieleki\n",
       "894     Regidrago\n",
       "895     Glastrier\n",
       "896     Spectrier\n",
       "897       Calyrex\n",
       "Name: english_name, Length: 898, dtype: object"
      ]
     },
     "execution_count": 16,
     "metadata": {},
     "output_type": "execute_result"
    }
   ],
   "source": [
    "pokemon.english_name"
   ]
  },
  {
   "cell_type": "code",
   "execution_count": 17,
   "id": "06690297-62d1-4c06-b80c-d21929d06148",
   "metadata": {},
   "outputs": [],
   "source": [
    "# dtype = data type"
   ]
  },
  {
   "cell_type": "code",
   "execution_count": 18,
   "id": "f7bd88b8-573b-44fc-89dd-b1a0ad3ad03f",
   "metadata": {},
   "outputs": [
    {
     "data": {
      "text/plain": [
       "national_number         int64\n",
       "gen                    object\n",
       "english_name           object\n",
       "japanese_name          object\n",
       "primary_type           object\n",
       "secondary_type         object\n",
       "classification         object\n",
       "percent_male           object\n",
       "percent_female         object\n",
       "height_m              float64\n",
       "weight_kg             float64\n",
       "capture_rate           object\n",
       "base_egg_steps          int64\n",
       "hp                      int64\n",
       "attack                  int64\n",
       "defense                 int64\n",
       "sp_attack               int64\n",
       "sp_defense              int64\n",
       "speed                   int64\n",
       "abilities_0            object\n",
       "abilities_1            object\n",
       "abilities_2            object\n",
       "abilities_hidden       object\n",
       "against_normal        float64\n",
       "against_fire          float64\n",
       "against_water         float64\n",
       "against_electric      float64\n",
       "against_grass         float64\n",
       "against_ice           float64\n",
       "against_fighting      float64\n",
       "against_poison        float64\n",
       "against_ground        float64\n",
       "against_flying        float64\n",
       "against_psychic       float64\n",
       "against_bug           float64\n",
       "against_rock          float64\n",
       "against_ghost         float64\n",
       "against_dragon        float64\n",
       "against_dark          float64\n",
       "against_steel         float64\n",
       "against_fairy         float64\n",
       "is_sublegendary         int64\n",
       "is_legendary            int64\n",
       "is_mythical             int64\n",
       "evochain_0             object\n",
       "evochain_1             object\n",
       "evochain_2             object\n",
       "evochain_3             object\n",
       "evochain_4             object\n",
       "evochain_5             object\n",
       "evochain_6             object\n",
       "gigantamax             object\n",
       "mega_evolution         object\n",
       "mega_evolution_alt     object\n",
       "description            object\n",
       "dtype: object"
      ]
     },
     "execution_count": 18,
     "metadata": {},
     "output_type": "execute_result"
    }
   ],
   "source": [
    "pokemon.dtypes"
   ]
  },
  {
   "cell_type": "code",
   "execution_count": 20,
   "id": "c5260e89-8739-40e9-9200-1dd0befceae3",
   "metadata": {},
   "outputs": [
    {
     "data": {
      "text/plain": [
       "dtype('O')"
      ]
     },
     "execution_count": 20,
     "metadata": {},
     "output_type": "execute_result"
    }
   ],
   "source": [
    "pokemon[\"description\"].dtype"
   ]
  },
  {
   "cell_type": "markdown",
   "id": "8443ca70-226d-46bd-b14d-063079a469bd",
   "metadata": {},
   "source": [
    "- HP - how many hits a Pokémon can endure\n",
    "- Attack – how hard a Pokémon hits others\n",
    "- Defense – how hard a Pokémon can be hit\n",
    "- Special Attack – similar to attack\n",
    "- Special Defense – similar to defense\n",
    "- Speed – how quick a Pokémon is"
   ]
  },
  {
   "cell_type": "code",
   "execution_count": 22,
   "id": "987eb2e5-726b-479f-b2d7-5ff2bc952d78",
   "metadata": {},
   "outputs": [
    {
     "data": {
      "text/plain": [
       "Index(['national_number', 'gen', 'english_name', 'japanese_name',\n",
       "       'primary_type', 'secondary_type', 'classification', 'percent_male',\n",
       "       'percent_female', 'height_m', 'weight_kg', 'capture_rate',\n",
       "       'base_egg_steps', 'hp', 'attack', 'defense', 'sp_attack', 'sp_defense',\n",
       "       'speed', 'abilities_0', 'abilities_1', 'abilities_2',\n",
       "       'abilities_hidden', 'against_normal', 'against_fire', 'against_water',\n",
       "       'against_electric', 'against_grass', 'against_ice', 'against_fighting',\n",
       "       'against_poison', 'against_ground', 'against_flying', 'against_psychic',\n",
       "       'against_bug', 'against_rock', 'against_ghost', 'against_dragon',\n",
       "       'against_dark', 'against_steel', 'against_fairy', 'is_sublegendary',\n",
       "       'is_legendary', 'is_mythical', 'evochain_0', 'evochain_1', 'evochain_2',\n",
       "       'evochain_3', 'evochain_4', 'evochain_5', 'evochain_6', 'gigantamax',\n",
       "       'mega_evolution', 'mega_evolution_alt', 'description'],\n",
       "      dtype='object')"
      ]
     },
     "execution_count": 22,
     "metadata": {},
     "output_type": "execute_result"
    }
   ],
   "source": [
    "pokemon.columns"
   ]
  },
  {
   "cell_type": "code",
   "execution_count": 23,
   "id": "80ded1b1-d1dd-4fd4-8149-6ba1677343d2",
   "metadata": {},
   "outputs": [
    {
     "data": {
      "text/plain": [
       "0       45\n",
       "1       60\n",
       "2       80\n",
       "3       39\n",
       "4       58\n",
       "      ... \n",
       "893     80\n",
       "894    200\n",
       "895    100\n",
       "896    100\n",
       "897    100\n",
       "Name: hp, Length: 898, dtype: int64"
      ]
     },
     "execution_count": 23,
     "metadata": {},
     "output_type": "execute_result"
    }
   ],
   "source": [
    "pokemon[\"hp\"]"
   ]
  },
  {
   "cell_type": "markdown",
   "id": "f0788176-dc35-4d35-90a7-4a040bb08bcf",
   "metadata": {},
   "source": [
    "$$2 * hp + 110$$"
   ]
  },
  {
   "cell_type": "code",
   "execution_count": 24,
   "id": "22f85309-b6d2-4fde-9159-40a4ea38c665",
   "metadata": {},
   "outputs": [
    {
     "data": {
      "text/plain": [
       "200"
      ]
     },
     "execution_count": 24,
     "metadata": {},
     "output_type": "execute_result"
    }
   ],
   "source": [
    "2 * pokemon[\"hp\"][0] + 110"
   ]
  },
  {
   "cell_type": "code",
   "execution_count": 26,
   "id": "901dbaf4-cfe7-4236-bbde-44111a569762",
   "metadata": {},
   "outputs": [
    {
     "data": {
      "text/plain": [
       "310"
      ]
     },
     "execution_count": 26,
     "metadata": {},
     "output_type": "execute_result"
    }
   ],
   "source": [
    "2 * pokemon[\"hp\"][897] + 110"
   ]
  },
  {
   "cell_type": "code",
   "execution_count": 27,
   "id": "7c8f7bca-defa-4e63-b2dc-c59d237ecc24",
   "metadata": {},
   "outputs": [
    {
     "data": {
      "text/plain": [
       "0      200\n",
       "1      230\n",
       "2      270\n",
       "3      188\n",
       "4      226\n",
       "      ... \n",
       "893    270\n",
       "894    510\n",
       "895    310\n",
       "896    310\n",
       "897    310\n",
       "Name: hp, Length: 898, dtype: int64"
      ]
     },
     "execution_count": 27,
     "metadata": {},
     "output_type": "execute_result"
    }
   ],
   "source": [
    "2 * pokemon[\"hp\"] + 110  # broadcasting"
   ]
  },
  {
   "cell_type": "markdown",
   "id": "44c36900-cf09-44a1-93e3-1b5794b24853",
   "metadata": {},
   "source": [
    "$$2 * attack + 5$$"
   ]
  },
  {
   "cell_type": "code",
   "execution_count": 28,
   "id": "82f1d38a-f2c4-4acf-8de2-0ee1877a5cfb",
   "metadata": {},
   "outputs": [
    {
     "data": {
      "text/plain": [
       "0      103\n",
       "1      129\n",
       "2      169\n",
       "3      109\n",
       "4      133\n",
       "      ... \n",
       "893    205\n",
       "894    205\n",
       "895    295\n",
       "896    135\n",
       "897    165\n",
       "Name: attack, Length: 898, dtype: int64"
      ]
     },
     "execution_count": 28,
     "metadata": {},
     "output_type": "execute_result"
    }
   ],
   "source": [
    "2 * pokemon[\"attack\"] + 5"
   ]
  },
  {
   "cell_type": "markdown",
   "id": "c98e640d-2919-4360-8588-00de46660bfc",
   "metadata": {},
   "source": [
    "$$2 * defense + 5$$"
   ]
  },
  {
   "cell_type": "markdown",
   "id": "d3885a8a-0fd1-443e-af0f-95b771cf447e",
   "metadata": {},
   "source": [
    "$$2 * sp\\_attack + 5$$"
   ]
  },
  {
   "cell_type": "code",
   "execution_count": 29,
   "id": "9fa55715-6822-44ae-a3d2-11554267b637",
   "metadata": {},
   "outputs": [
    {
     "data": {
      "text/html": [
       "<div>\n",
       "<style scoped>\n",
       "    .dataframe tbody tr th:only-of-type {\n",
       "        vertical-align: middle;\n",
       "    }\n",
       "\n",
       "    .dataframe tbody tr th {\n",
       "        vertical-align: top;\n",
       "    }\n",
       "\n",
       "    .dataframe thead th {\n",
       "        text-align: right;\n",
       "    }\n",
       "</style>\n",
       "<table border=\"1\" class=\"dataframe\">\n",
       "  <thead>\n",
       "    <tr style=\"text-align: right;\">\n",
       "      <th></th>\n",
       "      <th>attack</th>\n",
       "      <th>defense</th>\n",
       "    </tr>\n",
       "  </thead>\n",
       "  <tbody>\n",
       "    <tr>\n",
       "      <th>0</th>\n",
       "      <td>49</td>\n",
       "      <td>49</td>\n",
       "    </tr>\n",
       "    <tr>\n",
       "      <th>1</th>\n",
       "      <td>62</td>\n",
       "      <td>63</td>\n",
       "    </tr>\n",
       "    <tr>\n",
       "      <th>2</th>\n",
       "      <td>82</td>\n",
       "      <td>83</td>\n",
       "    </tr>\n",
       "    <tr>\n",
       "      <th>3</th>\n",
       "      <td>52</td>\n",
       "      <td>43</td>\n",
       "    </tr>\n",
       "    <tr>\n",
       "      <th>4</th>\n",
       "      <td>64</td>\n",
       "      <td>58</td>\n",
       "    </tr>\n",
       "    <tr>\n",
       "      <th>...</th>\n",
       "      <td>...</td>\n",
       "      <td>...</td>\n",
       "    </tr>\n",
       "    <tr>\n",
       "      <th>893</th>\n",
       "      <td>100</td>\n",
       "      <td>50</td>\n",
       "    </tr>\n",
       "    <tr>\n",
       "      <th>894</th>\n",
       "      <td>100</td>\n",
       "      <td>50</td>\n",
       "    </tr>\n",
       "    <tr>\n",
       "      <th>895</th>\n",
       "      <td>145</td>\n",
       "      <td>130</td>\n",
       "    </tr>\n",
       "    <tr>\n",
       "      <th>896</th>\n",
       "      <td>65</td>\n",
       "      <td>60</td>\n",
       "    </tr>\n",
       "    <tr>\n",
       "      <th>897</th>\n",
       "      <td>80</td>\n",
       "      <td>80</td>\n",
       "    </tr>\n",
       "  </tbody>\n",
       "</table>\n",
       "<p>898 rows × 2 columns</p>\n",
       "</div>"
      ],
      "text/plain": [
       "     attack  defense\n",
       "0        49       49\n",
       "1        62       63\n",
       "2        82       83\n",
       "3        52       43\n",
       "4        64       58\n",
       "..      ...      ...\n",
       "893     100       50\n",
       "894     100       50\n",
       "895     145      130\n",
       "896      65       60\n",
       "897      80       80\n",
       "\n",
       "[898 rows x 2 columns]"
      ]
     },
     "execution_count": 29,
     "metadata": {},
     "output_type": "execute_result"
    }
   ],
   "source": [
    "pokemon[\n",
    "    [\"attack\", \"defense\"]\n",
    "]"
   ]
  },
  {
   "cell_type": "code",
   "execution_count": 30,
   "id": "760a3f2a-5d00-497c-9549-d0a72b563493",
   "metadata": {},
   "outputs": [
    {
     "data": {
      "text/plain": [
       "pandas.core.frame.DataFrame"
      ]
     },
     "execution_count": 30,
     "metadata": {},
     "output_type": "execute_result"
    }
   ],
   "source": [
    "type(pokemon[\n",
    "    [\"attack\", \"defense\"]\n",
    "])"
   ]
  },
  {
   "cell_type": "code",
   "execution_count": 31,
   "id": "773f8e73-1dd0-4320-a237-1b2c5bce2950",
   "metadata": {},
   "outputs": [
    {
     "data": {
      "text/html": [
       "<div>\n",
       "<style scoped>\n",
       "    .dataframe tbody tr th:only-of-type {\n",
       "        vertical-align: middle;\n",
       "    }\n",
       "\n",
       "    .dataframe tbody tr th {\n",
       "        vertical-align: top;\n",
       "    }\n",
       "\n",
       "    .dataframe thead th {\n",
       "        text-align: right;\n",
       "    }\n",
       "</style>\n",
       "<table border=\"1\" class=\"dataframe\">\n",
       "  <thead>\n",
       "    <tr style=\"text-align: right;\">\n",
       "      <th></th>\n",
       "      <th>attack</th>\n",
       "      <th>defense</th>\n",
       "    </tr>\n",
       "  </thead>\n",
       "  <tbody>\n",
       "    <tr>\n",
       "      <th>0</th>\n",
       "      <td>103</td>\n",
       "      <td>103</td>\n",
       "    </tr>\n",
       "    <tr>\n",
       "      <th>1</th>\n",
       "      <td>129</td>\n",
       "      <td>131</td>\n",
       "    </tr>\n",
       "    <tr>\n",
       "      <th>2</th>\n",
       "      <td>169</td>\n",
       "      <td>171</td>\n",
       "    </tr>\n",
       "    <tr>\n",
       "      <th>3</th>\n",
       "      <td>109</td>\n",
       "      <td>91</td>\n",
       "    </tr>\n",
       "    <tr>\n",
       "      <th>4</th>\n",
       "      <td>133</td>\n",
       "      <td>121</td>\n",
       "    </tr>\n",
       "    <tr>\n",
       "      <th>...</th>\n",
       "      <td>...</td>\n",
       "      <td>...</td>\n",
       "    </tr>\n",
       "    <tr>\n",
       "      <th>893</th>\n",
       "      <td>205</td>\n",
       "      <td>105</td>\n",
       "    </tr>\n",
       "    <tr>\n",
       "      <th>894</th>\n",
       "      <td>205</td>\n",
       "      <td>105</td>\n",
       "    </tr>\n",
       "    <tr>\n",
       "      <th>895</th>\n",
       "      <td>295</td>\n",
       "      <td>265</td>\n",
       "    </tr>\n",
       "    <tr>\n",
       "      <th>896</th>\n",
       "      <td>135</td>\n",
       "      <td>125</td>\n",
       "    </tr>\n",
       "    <tr>\n",
       "      <th>897</th>\n",
       "      <td>165</td>\n",
       "      <td>165</td>\n",
       "    </tr>\n",
       "  </tbody>\n",
       "</table>\n",
       "<p>898 rows × 2 columns</p>\n",
       "</div>"
      ],
      "text/plain": [
       "     attack  defense\n",
       "0       103      103\n",
       "1       129      131\n",
       "2       169      171\n",
       "3       109       91\n",
       "4       133      121\n",
       "..      ...      ...\n",
       "893     205      105\n",
       "894     205      105\n",
       "895     295      265\n",
       "896     135      125\n",
       "897     165      165\n",
       "\n",
       "[898 rows x 2 columns]"
      ]
     },
     "execution_count": 31,
     "metadata": {},
     "output_type": "execute_result"
    }
   ],
   "source": [
    "2 * pokemon[\n",
    "    [\"attack\", \"defense\"]  # sp_attack sp_defense speed\n",
    "] + 5"
   ]
  },
  {
   "cell_type": "code",
   "execution_count": 32,
   "id": "31101954-d3c3-49cf-8857-640314c4aa06",
   "metadata": {},
   "outputs": [
    {
     "data": {
      "text/html": [
       "<div>\n",
       "<style scoped>\n",
       "    .dataframe tbody tr th:only-of-type {\n",
       "        vertical-align: middle;\n",
       "    }\n",
       "\n",
       "    .dataframe tbody tr th {\n",
       "        vertical-align: top;\n",
       "    }\n",
       "\n",
       "    .dataframe thead th {\n",
       "        text-align: right;\n",
       "    }\n",
       "</style>\n",
       "<table border=\"1\" class=\"dataframe\">\n",
       "  <thead>\n",
       "    <tr style=\"text-align: right;\">\n",
       "      <th></th>\n",
       "      <th>attack</th>\n",
       "      <th>defense</th>\n",
       "      <th>sp_attack</th>\n",
       "      <th>sp_defense</th>\n",
       "      <th>speed</th>\n",
       "    </tr>\n",
       "  </thead>\n",
       "  <tbody>\n",
       "    <tr>\n",
       "      <th>0</th>\n",
       "      <td>103</td>\n",
       "      <td>103</td>\n",
       "      <td>135</td>\n",
       "      <td>135</td>\n",
       "      <td>95</td>\n",
       "    </tr>\n",
       "    <tr>\n",
       "      <th>1</th>\n",
       "      <td>129</td>\n",
       "      <td>131</td>\n",
       "      <td>165</td>\n",
       "      <td>165</td>\n",
       "      <td>125</td>\n",
       "    </tr>\n",
       "    <tr>\n",
       "      <th>2</th>\n",
       "      <td>169</td>\n",
       "      <td>171</td>\n",
       "      <td>205</td>\n",
       "      <td>205</td>\n",
       "      <td>165</td>\n",
       "    </tr>\n",
       "    <tr>\n",
       "      <th>3</th>\n",
       "      <td>109</td>\n",
       "      <td>91</td>\n",
       "      <td>125</td>\n",
       "      <td>105</td>\n",
       "      <td>135</td>\n",
       "    </tr>\n",
       "    <tr>\n",
       "      <th>4</th>\n",
       "      <td>133</td>\n",
       "      <td>121</td>\n",
       "      <td>165</td>\n",
       "      <td>135</td>\n",
       "      <td>165</td>\n",
       "    </tr>\n",
       "    <tr>\n",
       "      <th>...</th>\n",
       "      <td>...</td>\n",
       "      <td>...</td>\n",
       "      <td>...</td>\n",
       "      <td>...</td>\n",
       "      <td>...</td>\n",
       "    </tr>\n",
       "    <tr>\n",
       "      <th>893</th>\n",
       "      <td>205</td>\n",
       "      <td>105</td>\n",
       "      <td>205</td>\n",
       "      <td>105</td>\n",
       "      <td>405</td>\n",
       "    </tr>\n",
       "    <tr>\n",
       "      <th>894</th>\n",
       "      <td>205</td>\n",
       "      <td>105</td>\n",
       "      <td>205</td>\n",
       "      <td>105</td>\n",
       "      <td>165</td>\n",
       "    </tr>\n",
       "    <tr>\n",
       "      <th>895</th>\n",
       "      <td>295</td>\n",
       "      <td>265</td>\n",
       "      <td>135</td>\n",
       "      <td>225</td>\n",
       "      <td>65</td>\n",
       "    </tr>\n",
       "    <tr>\n",
       "      <th>896</th>\n",
       "      <td>135</td>\n",
       "      <td>125</td>\n",
       "      <td>295</td>\n",
       "      <td>165</td>\n",
       "      <td>265</td>\n",
       "    </tr>\n",
       "    <tr>\n",
       "      <th>897</th>\n",
       "      <td>165</td>\n",
       "      <td>165</td>\n",
       "      <td>165</td>\n",
       "      <td>165</td>\n",
       "      <td>165</td>\n",
       "    </tr>\n",
       "  </tbody>\n",
       "</table>\n",
       "<p>898 rows × 5 columns</p>\n",
       "</div>"
      ],
      "text/plain": [
       "     attack  defense  sp_attack  sp_defense  speed\n",
       "0       103      103        135         135     95\n",
       "1       129      131        165         165    125\n",
       "2       169      171        205         205    165\n",
       "3       109       91        125         105    135\n",
       "4       133      121        165         135    165\n",
       "..      ...      ...        ...         ...    ...\n",
       "893     205      105        205         105    405\n",
       "894     205      105        205         105    165\n",
       "895     295      265        135         225     65\n",
       "896     135      125        295         165    265\n",
       "897     165      165        165         165    165\n",
       "\n",
       "[898 rows x 5 columns]"
      ]
     },
     "execution_count": 32,
     "metadata": {},
     "output_type": "execute_result"
    }
   ],
   "source": [
    "stats = [\"hp\", \"attack\", \"defense\", \"sp_attack\", \"sp_defense\", \"speed\"]\n",
    "2 * pokemon[stats[1:]] + 5  # Broadcasting works on dataframes too"
   ]
  },
  {
   "cell_type": "code",
   "execution_count": 33,
   "id": "45647385-5f5d-42fa-bb22-426d7cd22fcf",
   "metadata": {},
   "outputs": [],
   "source": [
    "columns = [\n",
    "    \"national_number\",\n",
    "    \"gen\",\n",
    "    \"english_name\",\n",
    "    \"primary_type\",\n",
    "    \"secondary_type\",\n",
    "    \"hp\",\n",
    "    \"attack\",\n",
    "    \"defense\",\n",
    "    \"sp_attack\",\n",
    "    \"sp_defense\",\n",
    "    \"speed\",\n",
    "    \"is_sublegendary\",\n",
    "    \"is_legendary\",\n",
    "    \"is_mythical\",\n",
    "]"
   ]
  },
  {
   "cell_type": "code",
   "execution_count": 34,
   "id": "07313595-11f6-4aaa-babf-d46a727b1c73",
   "metadata": {},
   "outputs": [
    {
     "data": {
      "text/html": [
       "<div>\n",
       "<style scoped>\n",
       "    .dataframe tbody tr th:only-of-type {\n",
       "        vertical-align: middle;\n",
       "    }\n",
       "\n",
       "    .dataframe tbody tr th {\n",
       "        vertical-align: top;\n",
       "    }\n",
       "\n",
       "    .dataframe thead th {\n",
       "        text-align: right;\n",
       "    }\n",
       "</style>\n",
       "<table border=\"1\" class=\"dataframe\">\n",
       "  <thead>\n",
       "    <tr style=\"text-align: right;\">\n",
       "      <th></th>\n",
       "      <th>national_number</th>\n",
       "      <th>gen</th>\n",
       "      <th>english_name</th>\n",
       "      <th>primary_type</th>\n",
       "      <th>secondary_type</th>\n",
       "      <th>hp</th>\n",
       "      <th>attack</th>\n",
       "      <th>defense</th>\n",
       "      <th>sp_attack</th>\n",
       "      <th>sp_defense</th>\n",
       "      <th>speed</th>\n",
       "      <th>is_sublegendary</th>\n",
       "      <th>is_legendary</th>\n",
       "      <th>is_mythical</th>\n",
       "    </tr>\n",
       "  </thead>\n",
       "  <tbody>\n",
       "    <tr>\n",
       "      <th>0</th>\n",
       "      <td>1</td>\n",
       "      <td>I</td>\n",
       "      <td>Bulbasaur</td>\n",
       "      <td>grass</td>\n",
       "      <td>poison</td>\n",
       "      <td>45</td>\n",
       "      <td>49</td>\n",
       "      <td>49</td>\n",
       "      <td>65</td>\n",
       "      <td>65</td>\n",
       "      <td>45</td>\n",
       "      <td>0</td>\n",
       "      <td>0</td>\n",
       "      <td>0</td>\n",
       "    </tr>\n",
       "    <tr>\n",
       "      <th>1</th>\n",
       "      <td>2</td>\n",
       "      <td>I</td>\n",
       "      <td>Ivysaur</td>\n",
       "      <td>grass</td>\n",
       "      <td>poison</td>\n",
       "      <td>60</td>\n",
       "      <td>62</td>\n",
       "      <td>63</td>\n",
       "      <td>80</td>\n",
       "      <td>80</td>\n",
       "      <td>60</td>\n",
       "      <td>0</td>\n",
       "      <td>0</td>\n",
       "      <td>0</td>\n",
       "    </tr>\n",
       "    <tr>\n",
       "      <th>2</th>\n",
       "      <td>3</td>\n",
       "      <td>I</td>\n",
       "      <td>Venusaur</td>\n",
       "      <td>grass</td>\n",
       "      <td>poison</td>\n",
       "      <td>80</td>\n",
       "      <td>82</td>\n",
       "      <td>83</td>\n",
       "      <td>100</td>\n",
       "      <td>100</td>\n",
       "      <td>80</td>\n",
       "      <td>0</td>\n",
       "      <td>0</td>\n",
       "      <td>0</td>\n",
       "    </tr>\n",
       "    <tr>\n",
       "      <th>3</th>\n",
       "      <td>4</td>\n",
       "      <td>I</td>\n",
       "      <td>Charmander</td>\n",
       "      <td>fire</td>\n",
       "      <td>NaN</td>\n",
       "      <td>39</td>\n",
       "      <td>52</td>\n",
       "      <td>43</td>\n",
       "      <td>60</td>\n",
       "      <td>50</td>\n",
       "      <td>65</td>\n",
       "      <td>0</td>\n",
       "      <td>0</td>\n",
       "      <td>0</td>\n",
       "    </tr>\n",
       "    <tr>\n",
       "      <th>4</th>\n",
       "      <td>5</td>\n",
       "      <td>I</td>\n",
       "      <td>Charmeleon</td>\n",
       "      <td>fire</td>\n",
       "      <td>NaN</td>\n",
       "      <td>58</td>\n",
       "      <td>64</td>\n",
       "      <td>58</td>\n",
       "      <td>80</td>\n",
       "      <td>65</td>\n",
       "      <td>80</td>\n",
       "      <td>0</td>\n",
       "      <td>0</td>\n",
       "      <td>0</td>\n",
       "    </tr>\n",
       "  </tbody>\n",
       "</table>\n",
       "</div>"
      ],
      "text/plain": [
       "   national_number gen english_name primary_type secondary_type  hp  attack  \\\n",
       "0                1   I    Bulbasaur        grass         poison  45      49   \n",
       "1                2   I      Ivysaur        grass         poison  60      62   \n",
       "2                3   I     Venusaur        grass         poison  80      82   \n",
       "3                4   I   Charmander         fire            NaN  39      52   \n",
       "4                5   I   Charmeleon         fire            NaN  58      64   \n",
       "\n",
       "   defense  sp_attack  sp_defense  speed  is_sublegendary  is_legendary  \\\n",
       "0       49         65          65     45                0             0   \n",
       "1       63         80          80     60                0             0   \n",
       "2       83        100         100     80                0             0   \n",
       "3       43         60          50     65                0             0   \n",
       "4       58         80          65     80                0             0   \n",
       "\n",
       "   is_mythical  \n",
       "0            0  \n",
       "1            0  \n",
       "2            0  \n",
       "3            0  \n",
       "4            0  "
      ]
     },
     "execution_count": 34,
     "metadata": {},
     "output_type": "execute_result"
    }
   ],
   "source": [
    "pokemon[columns].head()"
   ]
  },
  {
   "cell_type": "code",
   "execution_count": 36,
   "id": "d73cd836-2b99-494b-9e85-9ff5e67c2507",
   "metadata": {},
   "outputs": [],
   "source": [
    "pokemon = pokemon[columns]"
   ]
  },
  {
   "cell_type": "code",
   "execution_count": 37,
   "id": "a8bc152c-e0b4-4f40-9080-f4e6f3c7f24f",
   "metadata": {},
   "outputs": [
    {
     "data": {
      "text/html": [
       "<div>\n",
       "<style scoped>\n",
       "    .dataframe tbody tr th:only-of-type {\n",
       "        vertical-align: middle;\n",
       "    }\n",
       "\n",
       "    .dataframe tbody tr th {\n",
       "        vertical-align: top;\n",
       "    }\n",
       "\n",
       "    .dataframe thead th {\n",
       "        text-align: right;\n",
       "    }\n",
       "</style>\n",
       "<table border=\"1\" class=\"dataframe\">\n",
       "  <thead>\n",
       "    <tr style=\"text-align: right;\">\n",
       "      <th></th>\n",
       "      <th>national_number</th>\n",
       "      <th>gen</th>\n",
       "      <th>english_name</th>\n",
       "      <th>primary_type</th>\n",
       "      <th>secondary_type</th>\n",
       "      <th>hp</th>\n",
       "      <th>attack</th>\n",
       "      <th>defense</th>\n",
       "      <th>sp_attack</th>\n",
       "      <th>sp_defense</th>\n",
       "      <th>speed</th>\n",
       "      <th>is_sublegendary</th>\n",
       "      <th>is_legendary</th>\n",
       "      <th>is_mythical</th>\n",
       "    </tr>\n",
       "  </thead>\n",
       "  <tbody>\n",
       "    <tr>\n",
       "      <th>0</th>\n",
       "      <td>1</td>\n",
       "      <td>I</td>\n",
       "      <td>Bulbasaur</td>\n",
       "      <td>grass</td>\n",
       "      <td>poison</td>\n",
       "      <td>45</td>\n",
       "      <td>49</td>\n",
       "      <td>49</td>\n",
       "      <td>65</td>\n",
       "      <td>65</td>\n",
       "      <td>45</td>\n",
       "      <td>0</td>\n",
       "      <td>0</td>\n",
       "      <td>0</td>\n",
       "    </tr>\n",
       "    <tr>\n",
       "      <th>1</th>\n",
       "      <td>2</td>\n",
       "      <td>I</td>\n",
       "      <td>Ivysaur</td>\n",
       "      <td>grass</td>\n",
       "      <td>poison</td>\n",
       "      <td>60</td>\n",
       "      <td>62</td>\n",
       "      <td>63</td>\n",
       "      <td>80</td>\n",
       "      <td>80</td>\n",
       "      <td>60</td>\n",
       "      <td>0</td>\n",
       "      <td>0</td>\n",
       "      <td>0</td>\n",
       "    </tr>\n",
       "    <tr>\n",
       "      <th>2</th>\n",
       "      <td>3</td>\n",
       "      <td>I</td>\n",
       "      <td>Venusaur</td>\n",
       "      <td>grass</td>\n",
       "      <td>poison</td>\n",
       "      <td>80</td>\n",
       "      <td>82</td>\n",
       "      <td>83</td>\n",
       "      <td>100</td>\n",
       "      <td>100</td>\n",
       "      <td>80</td>\n",
       "      <td>0</td>\n",
       "      <td>0</td>\n",
       "      <td>0</td>\n",
       "    </tr>\n",
       "    <tr>\n",
       "      <th>3</th>\n",
       "      <td>4</td>\n",
       "      <td>I</td>\n",
       "      <td>Charmander</td>\n",
       "      <td>fire</td>\n",
       "      <td>NaN</td>\n",
       "      <td>39</td>\n",
       "      <td>52</td>\n",
       "      <td>43</td>\n",
       "      <td>60</td>\n",
       "      <td>50</td>\n",
       "      <td>65</td>\n",
       "      <td>0</td>\n",
       "      <td>0</td>\n",
       "      <td>0</td>\n",
       "    </tr>\n",
       "    <tr>\n",
       "      <th>4</th>\n",
       "      <td>5</td>\n",
       "      <td>I</td>\n",
       "      <td>Charmeleon</td>\n",
       "      <td>fire</td>\n",
       "      <td>NaN</td>\n",
       "      <td>58</td>\n",
       "      <td>64</td>\n",
       "      <td>58</td>\n",
       "      <td>80</td>\n",
       "      <td>65</td>\n",
       "      <td>80</td>\n",
       "      <td>0</td>\n",
       "      <td>0</td>\n",
       "      <td>0</td>\n",
       "    </tr>\n",
       "  </tbody>\n",
       "</table>\n",
       "</div>"
      ],
      "text/plain": [
       "   national_number gen english_name primary_type secondary_type  hp  attack  \\\n",
       "0                1   I    Bulbasaur        grass         poison  45      49   \n",
       "1                2   I      Ivysaur        grass         poison  60      62   \n",
       "2                3   I     Venusaur        grass         poison  80      82   \n",
       "3                4   I   Charmander         fire            NaN  39      52   \n",
       "4                5   I   Charmeleon         fire            NaN  58      64   \n",
       "\n",
       "   defense  sp_attack  sp_defense  speed  is_sublegendary  is_legendary  \\\n",
       "0       49         65          65     45                0             0   \n",
       "1       63         80          80     60                0             0   \n",
       "2       83        100         100     80                0             0   \n",
       "3       43         60          50     65                0             0   \n",
       "4       58         80          65     80                0             0   \n",
       "\n",
       "   is_mythical  \n",
       "0            0  \n",
       "1            0  \n",
       "2            0  \n",
       "3            0  \n",
       "4            0  "
      ]
     },
     "execution_count": 37,
     "metadata": {},
     "output_type": "execute_result"
    }
   ],
   "source": [
    "pokemon.head()"
   ]
  },
  {
   "cell_type": "code",
   "execution_count": 42,
   "id": "c769167f-7a3e-45e4-af6f-885d6165594f",
   "metadata": {},
   "outputs": [
    {
     "data": {
      "text/html": [
       "<div>\n",
       "<style scoped>\n",
       "    .dataframe tbody tr th:only-of-type {\n",
       "        vertical-align: middle;\n",
       "    }\n",
       "\n",
       "    .dataframe tbody tr th {\n",
       "        vertical-align: top;\n",
       "    }\n",
       "\n",
       "    .dataframe thead th {\n",
       "        text-align: right;\n",
       "    }\n",
       "</style>\n",
       "<table border=\"1\" class=\"dataframe\">\n",
       "  <thead>\n",
       "    <tr style=\"text-align: right;\">\n",
       "      <th></th>\n",
       "      <th>national_number</th>\n",
       "      <th>gen</th>\n",
       "      <th>english_name</th>\n",
       "      <th>primary_type</th>\n",
       "      <th>secondary_type</th>\n",
       "      <th>hp</th>\n",
       "      <th>attack</th>\n",
       "      <th>defense</th>\n",
       "      <th>sp_attack</th>\n",
       "      <th>sp_defense</th>\n",
       "      <th>speed</th>\n",
       "      <th>is_sublegendary</th>\n",
       "      <th>is_legendary</th>\n",
       "      <th>is_mythical</th>\n",
       "      <th>final_hp</th>\n",
       "      <th>final_attack</th>\n",
       "    </tr>\n",
       "  </thead>\n",
       "  <tbody>\n",
       "    <tr>\n",
       "      <th>0</th>\n",
       "      <td>1</td>\n",
       "      <td>I</td>\n",
       "      <td>Bulbasaur</td>\n",
       "      <td>grass</td>\n",
       "      <td>poison</td>\n",
       "      <td>45</td>\n",
       "      <td>49</td>\n",
       "      <td>49</td>\n",
       "      <td>65</td>\n",
       "      <td>65</td>\n",
       "      <td>45</td>\n",
       "      <td>0</td>\n",
       "      <td>0</td>\n",
       "      <td>0</td>\n",
       "      <td>200</td>\n",
       "      <td>103</td>\n",
       "    </tr>\n",
       "    <tr>\n",
       "      <th>1</th>\n",
       "      <td>2</td>\n",
       "      <td>I</td>\n",
       "      <td>Ivysaur</td>\n",
       "      <td>grass</td>\n",
       "      <td>poison</td>\n",
       "      <td>60</td>\n",
       "      <td>62</td>\n",
       "      <td>63</td>\n",
       "      <td>80</td>\n",
       "      <td>80</td>\n",
       "      <td>60</td>\n",
       "      <td>0</td>\n",
       "      <td>0</td>\n",
       "      <td>0</td>\n",
       "      <td>230</td>\n",
       "      <td>129</td>\n",
       "    </tr>\n",
       "    <tr>\n",
       "      <th>2</th>\n",
       "      <td>3</td>\n",
       "      <td>I</td>\n",
       "      <td>Venusaur</td>\n",
       "      <td>grass</td>\n",
       "      <td>poison</td>\n",
       "      <td>80</td>\n",
       "      <td>82</td>\n",
       "      <td>83</td>\n",
       "      <td>100</td>\n",
       "      <td>100</td>\n",
       "      <td>80</td>\n",
       "      <td>0</td>\n",
       "      <td>0</td>\n",
       "      <td>0</td>\n",
       "      <td>270</td>\n",
       "      <td>169</td>\n",
       "    </tr>\n",
       "    <tr>\n",
       "      <th>3</th>\n",
       "      <td>4</td>\n",
       "      <td>I</td>\n",
       "      <td>Charmander</td>\n",
       "      <td>fire</td>\n",
       "      <td>NaN</td>\n",
       "      <td>39</td>\n",
       "      <td>52</td>\n",
       "      <td>43</td>\n",
       "      <td>60</td>\n",
       "      <td>50</td>\n",
       "      <td>65</td>\n",
       "      <td>0</td>\n",
       "      <td>0</td>\n",
       "      <td>0</td>\n",
       "      <td>188</td>\n",
       "      <td>109</td>\n",
       "    </tr>\n",
       "    <tr>\n",
       "      <th>4</th>\n",
       "      <td>5</td>\n",
       "      <td>I</td>\n",
       "      <td>Charmeleon</td>\n",
       "      <td>fire</td>\n",
       "      <td>NaN</td>\n",
       "      <td>58</td>\n",
       "      <td>64</td>\n",
       "      <td>58</td>\n",
       "      <td>80</td>\n",
       "      <td>65</td>\n",
       "      <td>80</td>\n",
       "      <td>0</td>\n",
       "      <td>0</td>\n",
       "      <td>0</td>\n",
       "      <td>226</td>\n",
       "      <td>133</td>\n",
       "    </tr>\n",
       "    <tr>\n",
       "      <th>...</th>\n",
       "      <td>...</td>\n",
       "      <td>...</td>\n",
       "      <td>...</td>\n",
       "      <td>...</td>\n",
       "      <td>...</td>\n",
       "      <td>...</td>\n",
       "      <td>...</td>\n",
       "      <td>...</td>\n",
       "      <td>...</td>\n",
       "      <td>...</td>\n",
       "      <td>...</td>\n",
       "      <td>...</td>\n",
       "      <td>...</td>\n",
       "      <td>...</td>\n",
       "      <td>...</td>\n",
       "      <td>...</td>\n",
       "    </tr>\n",
       "    <tr>\n",
       "      <th>893</th>\n",
       "      <td>894</td>\n",
       "      <td>VIII</td>\n",
       "      <td>Regieleki</td>\n",
       "      <td>electric</td>\n",
       "      <td>NaN</td>\n",
       "      <td>80</td>\n",
       "      <td>100</td>\n",
       "      <td>50</td>\n",
       "      <td>100</td>\n",
       "      <td>50</td>\n",
       "      <td>200</td>\n",
       "      <td>1</td>\n",
       "      <td>0</td>\n",
       "      <td>0</td>\n",
       "      <td>270</td>\n",
       "      <td>205</td>\n",
       "    </tr>\n",
       "    <tr>\n",
       "      <th>894</th>\n",
       "      <td>895</td>\n",
       "      <td>VIII</td>\n",
       "      <td>Regidrago</td>\n",
       "      <td>dragon</td>\n",
       "      <td>NaN</td>\n",
       "      <td>200</td>\n",
       "      <td>100</td>\n",
       "      <td>50</td>\n",
       "      <td>100</td>\n",
       "      <td>50</td>\n",
       "      <td>80</td>\n",
       "      <td>1</td>\n",
       "      <td>0</td>\n",
       "      <td>0</td>\n",
       "      <td>510</td>\n",
       "      <td>205</td>\n",
       "    </tr>\n",
       "    <tr>\n",
       "      <th>895</th>\n",
       "      <td>896</td>\n",
       "      <td>VIII</td>\n",
       "      <td>Glastrier</td>\n",
       "      <td>ice</td>\n",
       "      <td>NaN</td>\n",
       "      <td>100</td>\n",
       "      <td>145</td>\n",
       "      <td>130</td>\n",
       "      <td>65</td>\n",
       "      <td>110</td>\n",
       "      <td>30</td>\n",
       "      <td>1</td>\n",
       "      <td>0</td>\n",
       "      <td>0</td>\n",
       "      <td>310</td>\n",
       "      <td>295</td>\n",
       "    </tr>\n",
       "    <tr>\n",
       "      <th>896</th>\n",
       "      <td>897</td>\n",
       "      <td>VIII</td>\n",
       "      <td>Spectrier</td>\n",
       "      <td>ghost</td>\n",
       "      <td>NaN</td>\n",
       "      <td>100</td>\n",
       "      <td>65</td>\n",
       "      <td>60</td>\n",
       "      <td>145</td>\n",
       "      <td>80</td>\n",
       "      <td>130</td>\n",
       "      <td>0</td>\n",
       "      <td>0</td>\n",
       "      <td>0</td>\n",
       "      <td>310</td>\n",
       "      <td>135</td>\n",
       "    </tr>\n",
       "    <tr>\n",
       "      <th>897</th>\n",
       "      <td>898</td>\n",
       "      <td>VIII</td>\n",
       "      <td>Calyrex</td>\n",
       "      <td>psychic</td>\n",
       "      <td>grass</td>\n",
       "      <td>100</td>\n",
       "      <td>80</td>\n",
       "      <td>80</td>\n",
       "      <td>80</td>\n",
       "      <td>80</td>\n",
       "      <td>80</td>\n",
       "      <td>0</td>\n",
       "      <td>0</td>\n",
       "      <td>0</td>\n",
       "      <td>310</td>\n",
       "      <td>165</td>\n",
       "    </tr>\n",
       "  </tbody>\n",
       "</table>\n",
       "<p>898 rows × 16 columns</p>\n",
       "</div>"
      ],
      "text/plain": [
       "     national_number   gen english_name primary_type secondary_type   hp  \\\n",
       "0                  1     I    Bulbasaur        grass         poison   45   \n",
       "1                  2     I      Ivysaur        grass         poison   60   \n",
       "2                  3     I     Venusaur        grass         poison   80   \n",
       "3                  4     I   Charmander         fire            NaN   39   \n",
       "4                  5     I   Charmeleon         fire            NaN   58   \n",
       "..               ...   ...          ...          ...            ...  ...   \n",
       "893              894  VIII    Regieleki     electric            NaN   80   \n",
       "894              895  VIII    Regidrago       dragon            NaN  200   \n",
       "895              896  VIII    Glastrier          ice            NaN  100   \n",
       "896              897  VIII    Spectrier        ghost            NaN  100   \n",
       "897              898  VIII      Calyrex      psychic          grass  100   \n",
       "\n",
       "     attack  defense  sp_attack  sp_defense  speed  is_sublegendary  \\\n",
       "0        49       49         65          65     45                0   \n",
       "1        62       63         80          80     60                0   \n",
       "2        82       83        100         100     80                0   \n",
       "3        52       43         60          50     65                0   \n",
       "4        64       58         80          65     80                0   \n",
       "..      ...      ...        ...         ...    ...              ...   \n",
       "893     100       50        100          50    200                1   \n",
       "894     100       50        100          50     80                1   \n",
       "895     145      130         65         110     30                1   \n",
       "896      65       60        145          80    130                0   \n",
       "897      80       80         80          80     80                0   \n",
       "\n",
       "     is_legendary  is_mythical  final_hp  final_attack  \n",
       "0               0            0       200           103  \n",
       "1               0            0       230           129  \n",
       "2               0            0       270           169  \n",
       "3               0            0       188           109  \n",
       "4               0            0       226           133  \n",
       "..            ...          ...       ...           ...  \n",
       "893             0            0       270           205  \n",
       "894             0            0       510           205  \n",
       "895             0            0       310           295  \n",
       "896             0            0       310           135  \n",
       "897             0            0       310           165  \n",
       "\n",
       "[898 rows x 16 columns]"
      ]
     },
     "execution_count": 42,
     "metadata": {},
     "output_type": "execute_result"
    }
   ],
   "source": [
    "pokemon.assign(\n",
    "    final_hp = 2 * pokemon[\"hp\"] + 110,\n",
    "    final_attack = 2 * pokemon[\"attack\"] + 5,\n",
    ")"
   ]
  },
  {
   "cell_type": "code",
   "execution_count": 43,
   "id": "ec040867-e079-44a1-9d8a-7a22eca6a85b",
   "metadata": {},
   "outputs": [
    {
     "data": {
      "text/plain": [
       "['hp', 'attack', 'defense', 'sp_attack', 'sp_defense', 'speed']"
      ]
     },
     "execution_count": 43,
     "metadata": {},
     "output_type": "execute_result"
    }
   ],
   "source": [
    "stats"
   ]
  },
  {
   "cell_type": "code",
   "execution_count": 45,
   "id": "dea9308e-c293-4699-854e-aac8d5626f5e",
   "metadata": {},
   "outputs": [
    {
     "data": {
      "text/html": [
       "<div>\n",
       "<style scoped>\n",
       "    .dataframe tbody tr th:only-of-type {\n",
       "        vertical-align: middle;\n",
       "    }\n",
       "\n",
       "    .dataframe tbody tr th {\n",
       "        vertical-align: top;\n",
       "    }\n",
       "\n",
       "    .dataframe thead th {\n",
       "        text-align: right;\n",
       "    }\n",
       "</style>\n",
       "<table border=\"1\" class=\"dataframe\">\n",
       "  <thead>\n",
       "    <tr style=\"text-align: right;\">\n",
       "      <th></th>\n",
       "      <th>hp</th>\n",
       "      <th>attack</th>\n",
       "      <th>defense</th>\n",
       "      <th>sp_attack</th>\n",
       "      <th>sp_defense</th>\n",
       "      <th>speed</th>\n",
       "    </tr>\n",
       "  </thead>\n",
       "  <tbody>\n",
       "    <tr>\n",
       "      <th>0</th>\n",
       "      <td>200</td>\n",
       "      <td>103</td>\n",
       "      <td>103</td>\n",
       "      <td>135</td>\n",
       "      <td>135</td>\n",
       "      <td>95</td>\n",
       "    </tr>\n",
       "    <tr>\n",
       "      <th>1</th>\n",
       "      <td>230</td>\n",
       "      <td>129</td>\n",
       "      <td>131</td>\n",
       "      <td>165</td>\n",
       "      <td>165</td>\n",
       "      <td>125</td>\n",
       "    </tr>\n",
       "    <tr>\n",
       "      <th>2</th>\n",
       "      <td>270</td>\n",
       "      <td>169</td>\n",
       "      <td>171</td>\n",
       "      <td>205</td>\n",
       "      <td>205</td>\n",
       "      <td>165</td>\n",
       "    </tr>\n",
       "    <tr>\n",
       "      <th>3</th>\n",
       "      <td>188</td>\n",
       "      <td>109</td>\n",
       "      <td>91</td>\n",
       "      <td>125</td>\n",
       "      <td>105</td>\n",
       "      <td>135</td>\n",
       "    </tr>\n",
       "    <tr>\n",
       "      <th>4</th>\n",
       "      <td>226</td>\n",
       "      <td>133</td>\n",
       "      <td>121</td>\n",
       "      <td>165</td>\n",
       "      <td>135</td>\n",
       "      <td>165</td>\n",
       "    </tr>\n",
       "    <tr>\n",
       "      <th>...</th>\n",
       "      <td>...</td>\n",
       "      <td>...</td>\n",
       "      <td>...</td>\n",
       "      <td>...</td>\n",
       "      <td>...</td>\n",
       "      <td>...</td>\n",
       "    </tr>\n",
       "    <tr>\n",
       "      <th>893</th>\n",
       "      <td>270</td>\n",
       "      <td>205</td>\n",
       "      <td>105</td>\n",
       "      <td>205</td>\n",
       "      <td>105</td>\n",
       "      <td>405</td>\n",
       "    </tr>\n",
       "    <tr>\n",
       "      <th>894</th>\n",
       "      <td>510</td>\n",
       "      <td>205</td>\n",
       "      <td>105</td>\n",
       "      <td>205</td>\n",
       "      <td>105</td>\n",
       "      <td>165</td>\n",
       "    </tr>\n",
       "    <tr>\n",
       "      <th>895</th>\n",
       "      <td>310</td>\n",
       "      <td>295</td>\n",
       "      <td>265</td>\n",
       "      <td>135</td>\n",
       "      <td>225</td>\n",
       "      <td>65</td>\n",
       "    </tr>\n",
       "    <tr>\n",
       "      <th>896</th>\n",
       "      <td>310</td>\n",
       "      <td>135</td>\n",
       "      <td>125</td>\n",
       "      <td>295</td>\n",
       "      <td>165</td>\n",
       "      <td>265</td>\n",
       "    </tr>\n",
       "    <tr>\n",
       "      <th>897</th>\n",
       "      <td>310</td>\n",
       "      <td>165</td>\n",
       "      <td>165</td>\n",
       "      <td>165</td>\n",
       "      <td>165</td>\n",
       "      <td>165</td>\n",
       "    </tr>\n",
       "  </tbody>\n",
       "</table>\n",
       "<p>898 rows × 6 columns</p>\n",
       "</div>"
      ],
      "text/plain": [
       "      hp  attack  defense  sp_attack  sp_defense  speed\n",
       "0    200     103      103        135         135     95\n",
       "1    230     129      131        165         165    125\n",
       "2    270     169      171        205         205    165\n",
       "3    188     109       91        125         105    135\n",
       "4    226     133      121        165         135    165\n",
       "..   ...     ...      ...        ...         ...    ...\n",
       "893  270     205      105        205         105    405\n",
       "894  510     205      105        205         105    165\n",
       "895  310     295      265        135         225     65\n",
       "896  310     135      125        295         165    265\n",
       "897  310     165      165        165         165    165\n",
       "\n",
       "[898 rows x 6 columns]"
      ]
     },
     "execution_count": 45,
     "metadata": {},
     "output_type": "execute_result"
    }
   ],
   "source": [
    "2 * pokemon[stats] + (110, 5, 5, 5, 5, 5)"
   ]
  },
  {
   "cell_type": "code",
   "execution_count": 48,
   "id": "ff489b7b-1e3a-4e5f-b535-b9f9c9d7114e",
   "metadata": {},
   "outputs": [],
   "source": [
    "pokemon = pokemon.join(\n",
    "    2 * pokemon[stats] + (110, 5, 5, 5, 5, 5),\n",
    "    rsuffix = \"_final\"\n",
    ")"
   ]
  },
  {
   "cell_type": "code",
   "execution_count": 51,
   "id": "847c6942-b2ae-4538-8d87-5cef3e6aba39",
   "metadata": {},
   "outputs": [
    {
     "data": {
      "text/html": [
       "<div>\n",
       "<style scoped>\n",
       "    .dataframe tbody tr th:only-of-type {\n",
       "        vertical-align: middle;\n",
       "    }\n",
       "\n",
       "    .dataframe tbody tr th {\n",
       "        vertical-align: top;\n",
       "    }\n",
       "\n",
       "    .dataframe thead th {\n",
       "        text-align: right;\n",
       "    }\n",
       "</style>\n",
       "<table border=\"1\" class=\"dataframe\">\n",
       "  <thead>\n",
       "    <tr style=\"text-align: right;\">\n",
       "      <th></th>\n",
       "      <th>national_number</th>\n",
       "      <th>gen</th>\n",
       "      <th>english_name</th>\n",
       "      <th>primary_type</th>\n",
       "      <th>secondary_type</th>\n",
       "      <th>hp</th>\n",
       "      <th>attack</th>\n",
       "      <th>defense</th>\n",
       "      <th>sp_attack</th>\n",
       "      <th>sp_defense</th>\n",
       "      <th>speed</th>\n",
       "      <th>is_sublegendary</th>\n",
       "      <th>is_legendary</th>\n",
       "      <th>is_mythical</th>\n",
       "      <th>hp_final</th>\n",
       "      <th>attack_final</th>\n",
       "      <th>defense_final</th>\n",
       "      <th>sp_attack_final</th>\n",
       "      <th>sp_defense_final</th>\n",
       "      <th>speed_final</th>\n",
       "    </tr>\n",
       "  </thead>\n",
       "  <tbody>\n",
       "    <tr>\n",
       "      <th>0</th>\n",
       "      <td>1</td>\n",
       "      <td>I</td>\n",
       "      <td>Bulbasaur</td>\n",
       "      <td>grass</td>\n",
       "      <td>poison</td>\n",
       "      <td>45</td>\n",
       "      <td>49</td>\n",
       "      <td>49</td>\n",
       "      <td>65</td>\n",
       "      <td>65</td>\n",
       "      <td>45</td>\n",
       "      <td>0</td>\n",
       "      <td>0</td>\n",
       "      <td>0</td>\n",
       "      <td>200</td>\n",
       "      <td>103</td>\n",
       "      <td>103</td>\n",
       "      <td>135</td>\n",
       "      <td>135</td>\n",
       "      <td>95</td>\n",
       "    </tr>\n",
       "    <tr>\n",
       "      <th>1</th>\n",
       "      <td>2</td>\n",
       "      <td>I</td>\n",
       "      <td>Ivysaur</td>\n",
       "      <td>grass</td>\n",
       "      <td>poison</td>\n",
       "      <td>60</td>\n",
       "      <td>62</td>\n",
       "      <td>63</td>\n",
       "      <td>80</td>\n",
       "      <td>80</td>\n",
       "      <td>60</td>\n",
       "      <td>0</td>\n",
       "      <td>0</td>\n",
       "      <td>0</td>\n",
       "      <td>230</td>\n",
       "      <td>129</td>\n",
       "      <td>131</td>\n",
       "      <td>165</td>\n",
       "      <td>165</td>\n",
       "      <td>125</td>\n",
       "    </tr>\n",
       "  </tbody>\n",
       "</table>\n",
       "</div>"
      ],
      "text/plain": [
       "   national_number gen english_name primary_type secondary_type  hp  attack  \\\n",
       "0                1   I    Bulbasaur        grass         poison  45      49   \n",
       "1                2   I      Ivysaur        grass         poison  60      62   \n",
       "\n",
       "   defense  sp_attack  sp_defense  speed  is_sublegendary  is_legendary  \\\n",
       "0       49         65          65     45                0             0   \n",
       "1       63         80          80     60                0             0   \n",
       "\n",
       "   is_mythical  hp_final  attack_final  defense_final  sp_attack_final  \\\n",
       "0            0       200           103            103              135   \n",
       "1            0       230           129            131              165   \n",
       "\n",
       "   sp_defense_final  speed_final  \n",
       "0               135           95  \n",
       "1               165          125  "
      ]
     },
     "execution_count": 51,
     "metadata": {},
     "output_type": "execute_result"
    }
   ],
   "source": [
    "pokemon.head(2)"
   ]
  },
  {
   "cell_type": "code",
   "execution_count": 55,
   "id": "1cd53bd6-8ad8-4bd8-b052-d098df4c31ca",
   "metadata": {},
   "outputs": [
    {
     "data": {
      "text/plain": [
       "0      139\n",
       "1      182\n",
       "2      242\n",
       "3      156\n",
       "4      202\n",
       "      ... \n",
       "893    380\n",
       "894    380\n",
       "895    275\n",
       "896    295\n",
       "897    260\n",
       "Length: 898, dtype: int64"
      ]
     },
     "execution_count": 55,
     "metadata": {},
     "output_type": "execute_result"
    }
   ],
   "source": [
    "pokemon[\"hp\"] + pokemon[\"attack\"] + pokemon[\"speed\"]"
   ]
  },
  {
   "cell_type": "code",
   "execution_count": 56,
   "id": "14d1da88-2ce1-4b25-b55c-37f9ece67ec9",
   "metadata": {},
   "outputs": [
    {
     "data": {
      "text/plain": [
       "61990"
      ]
     },
     "execution_count": 56,
     "metadata": {},
     "output_type": "execute_result"
    }
   ],
   "source": [
    "pokemon[\"hp\"].sum()"
   ]
  },
  {
   "cell_type": "code",
   "execution_count": 57,
   "id": "96c709eb-e161-4523-bd10-08783578f84b",
   "metadata": {},
   "outputs": [
    {
     "data": {
      "text/plain": [
       "1"
      ]
     },
     "execution_count": 57,
     "metadata": {},
     "output_type": "execute_result"
    }
   ],
   "source": [
    "pokemon[\"hp\"].min()"
   ]
  },
  {
   "cell_type": "code",
   "execution_count": 58,
   "id": "7f22421c-ecd4-4f54-8845-53c7bd91f719",
   "metadata": {},
   "outputs": [
    {
     "data": {
      "text/plain": [
       "255"
      ]
     },
     "execution_count": 58,
     "metadata": {},
     "output_type": "execute_result"
    }
   ],
   "source": [
    "pokemon[\"hp\"].max()"
   ]
  },
  {
   "cell_type": "code",
   "execution_count": 60,
   "id": "b33ceea3-a8fa-49dc-b55e-462fc2b25892",
   "metadata": {},
   "outputs": [
    {
     "data": {
      "text/plain": [
       "69.03118040089088"
      ]
     },
     "execution_count": 60,
     "metadata": {},
     "output_type": "execute_result"
    }
   ],
   "source": [
    "pokemon[\"hp\"].mean()"
   ]
  },
  {
   "cell_type": "code",
   "execution_count": 62,
   "id": "534425cf-46a6-4b7e-9f6c-ebe47279faaf",
   "metadata": {},
   "outputs": [
    {
     "data": {
      "text/plain": [
       "hp            69.031180\n",
       "attack        76.544543\n",
       "defense       71.886414\n",
       "sp_attack     69.681514\n",
       "sp_defense    69.876392\n",
       "speed         65.949889\n",
       "dtype: float64"
      ]
     },
     "execution_count": 62,
     "metadata": {},
     "output_type": "execute_result"
    }
   ],
   "source": [
    "pokemon[stats].mean()"
   ]
  },
  {
   "cell_type": "code",
   "execution_count": 63,
   "id": "6c0d3332-7345-4441-9ff1-87c48e082520",
   "metadata": {},
   "outputs": [
    {
     "data": {
      "text/plain": [
       "hp            61990\n",
       "attack        68737\n",
       "defense       64554\n",
       "sp_attack     62574\n",
       "sp_defense    62749\n",
       "speed         59223\n",
       "dtype: int64"
      ]
     },
     "execution_count": 63,
     "metadata": {},
     "output_type": "execute_result"
    }
   ],
   "source": [
    "pokemon[stats].sum()"
   ]
  },
  {
   "cell_type": "code",
   "execution_count": 64,
   "id": "1bc0bfe2-755a-4e5d-9851-fe959e5ae076",
   "metadata": {},
   "outputs": [
    {
     "data": {
      "text/plain": [
       "0      53.000000\n",
       "1      67.500000\n",
       "2      87.500000\n",
       "3      51.500000\n",
       "4      67.500000\n",
       "         ...    \n",
       "893    96.666667\n",
       "894    96.666667\n",
       "895    96.666667\n",
       "896    96.666667\n",
       "897    83.333333\n",
       "Length: 898, dtype: float64"
      ]
     },
     "execution_count": 64,
     "metadata": {},
     "output_type": "execute_result"
    }
   ],
   "source": [
    "pokemon[stats].mean(axis=1)"
   ]
  },
  {
   "cell_type": "markdown",
   "id": "09487832-8ea2-4317-b6ff-82490cba7f67",
   "metadata": {},
   "source": [
    "# total"
   ]
  },
  {
   "cell_type": "code",
   "execution_count": null,
   "id": "2488acd0-ecfa-4d06-8672-e2edc534ce87",
   "metadata": {},
   "outputs": [],
   "source": []
  }
 ],
 "metadata": {
  "kernelspec": {
   "display_name": "Python 3 (ipykernel)",
   "language": "python",
   "name": "python3"
  },
  "language_info": {
   "codemirror_mode": {
    "name": "ipython",
    "version": 3
   },
   "file_extension": ".py",
   "mimetype": "text/x-python",
   "name": "python",
   "nbconvert_exporter": "python",
   "pygments_lexer": "ipython3",
   "version": "3.12.0"
  }
 },
 "nbformat": 4,
 "nbformat_minor": 5
}
