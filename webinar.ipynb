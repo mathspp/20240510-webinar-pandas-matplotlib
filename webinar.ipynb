{
 "cells": [
  {
   "cell_type": "code",
   "execution_count": 4,
   "id": "274a4fe1-0e98-4e08-bc19-e96864a9b9ec",
   "metadata": {},
   "outputs": [
    {
     "name": "stdout",
     "output_type": "stream",
     "text": [
      "The history saving thread hit an unexpected error (OperationalError('attempt to write a readonly database')).History will not be written to the database.\n"
     ]
    }
   ],
   "source": [
    "import pandas as pd"
   ]
  },
  {
   "cell_type": "code",
   "execution_count": 5,
   "id": "e805118c-f227-48fa-ae26-8c5a3c4895fa",
   "metadata": {},
   "outputs": [],
   "source": [
    "pokemon = pd.read_csv(\"pokemon.csv\")"
   ]
  },
  {
   "cell_type": "code",
   "execution_count": 6,
   "id": "4f236296-9e5e-4ed1-b925-9c13724a7ab1",
   "metadata": {},
   "outputs": [
    {
     "data": {
      "text/html": [
       "<div>\n",
       "<style scoped>\n",
       "    .dataframe tbody tr th:only-of-type {\n",
       "        vertical-align: middle;\n",
       "    }\n",
       "\n",
       "    .dataframe tbody tr th {\n",
       "        vertical-align: top;\n",
       "    }\n",
       "\n",
       "    .dataframe thead th {\n",
       "        text-align: right;\n",
       "    }\n",
       "</style>\n",
       "<table border=\"1\" class=\"dataframe\">\n",
       "  <thead>\n",
       "    <tr style=\"text-align: right;\">\n",
       "      <th></th>\n",
       "      <th>national_number</th>\n",
       "      <th>gen</th>\n",
       "      <th>english_name</th>\n",
       "      <th>japanese_name</th>\n",
       "      <th>primary_type</th>\n",
       "      <th>secondary_type</th>\n",
       "      <th>classification</th>\n",
       "      <th>percent_male</th>\n",
       "      <th>percent_female</th>\n",
       "      <th>height_m</th>\n",
       "      <th>...</th>\n",
       "      <th>evochain_1</th>\n",
       "      <th>evochain_2</th>\n",
       "      <th>evochain_3</th>\n",
       "      <th>evochain_4</th>\n",
       "      <th>evochain_5</th>\n",
       "      <th>evochain_6</th>\n",
       "      <th>gigantamax</th>\n",
       "      <th>mega_evolution</th>\n",
       "      <th>mega_evolution_alt</th>\n",
       "      <th>description</th>\n",
       "    </tr>\n",
       "  </thead>\n",
       "  <tbody>\n",
       "    <tr>\n",
       "      <th>0</th>\n",
       "      <td>1</td>\n",
       "      <td>I</td>\n",
       "      <td>Bulbasaur</td>\n",
       "      <td>Fushigidane</td>\n",
       "      <td>grass</td>\n",
       "      <td>poison</td>\n",
       "      <td>Seed Pokémon</td>\n",
       "      <td>88.14</td>\n",
       "      <td>11.86</td>\n",
       "      <td>0.7</td>\n",
       "      <td>...</td>\n",
       "      <td>Level</td>\n",
       "      <td>Ivysaur</td>\n",
       "      <td>Level</td>\n",
       "      <td>Venusaur</td>\n",
       "      <td>NaN</td>\n",
       "      <td>NaN</td>\n",
       "      <td>NaN</td>\n",
       "      <td>NaN</td>\n",
       "      <td>NaN</td>\n",
       "      <td>There is a plant seed on its back right from t...</td>\n",
       "    </tr>\n",
       "    <tr>\n",
       "      <th>1</th>\n",
       "      <td>2</td>\n",
       "      <td>I</td>\n",
       "      <td>Ivysaur</td>\n",
       "      <td>Fushigisou</td>\n",
       "      <td>grass</td>\n",
       "      <td>poison</td>\n",
       "      <td>Seed Pokémon</td>\n",
       "      <td>88.14</td>\n",
       "      <td>11.86</td>\n",
       "      <td>1.0</td>\n",
       "      <td>...</td>\n",
       "      <td>Level</td>\n",
       "      <td>Ivysaur</td>\n",
       "      <td>Level</td>\n",
       "      <td>Venusaur</td>\n",
       "      <td>NaN</td>\n",
       "      <td>NaN</td>\n",
       "      <td>NaN</td>\n",
       "      <td>NaN</td>\n",
       "      <td>NaN</td>\n",
       "      <td>When the bulb on its back grows large, it appe...</td>\n",
       "    </tr>\n",
       "    <tr>\n",
       "      <th>2</th>\n",
       "      <td>3</td>\n",
       "      <td>I</td>\n",
       "      <td>Venusaur</td>\n",
       "      <td>Fushigibana</td>\n",
       "      <td>grass</td>\n",
       "      <td>poison</td>\n",
       "      <td>Seed Pokémon</td>\n",
       "      <td>88.14</td>\n",
       "      <td>11.86</td>\n",
       "      <td>2.0</td>\n",
       "      <td>...</td>\n",
       "      <td>Level</td>\n",
       "      <td>Ivysaur</td>\n",
       "      <td>Level</td>\n",
       "      <td>Venusaur</td>\n",
       "      <td>NaN</td>\n",
       "      <td>NaN</td>\n",
       "      <td>Gigantamax Venusaur</td>\n",
       "      <td>Mega Venusaur</td>\n",
       "      <td>NaN</td>\n",
       "      <td>Its plant blooms when it is absorbing solar en...</td>\n",
       "    </tr>\n",
       "    <tr>\n",
       "      <th>3</th>\n",
       "      <td>4</td>\n",
       "      <td>I</td>\n",
       "      <td>Charmander</td>\n",
       "      <td>Hitokage</td>\n",
       "      <td>fire</td>\n",
       "      <td>NaN</td>\n",
       "      <td>Lizard Pokémon</td>\n",
       "      <td>88.14</td>\n",
       "      <td>11.86</td>\n",
       "      <td>0.6</td>\n",
       "      <td>...</td>\n",
       "      <td>Level</td>\n",
       "      <td>Charmeleon</td>\n",
       "      <td>Level</td>\n",
       "      <td>Charizard</td>\n",
       "      <td>NaN</td>\n",
       "      <td>NaN</td>\n",
       "      <td>NaN</td>\n",
       "      <td>NaN</td>\n",
       "      <td>NaN</td>\n",
       "      <td>It has a preference for hot things. When it ra...</td>\n",
       "    </tr>\n",
       "    <tr>\n",
       "      <th>4</th>\n",
       "      <td>5</td>\n",
       "      <td>I</td>\n",
       "      <td>Charmeleon</td>\n",
       "      <td>Lizardo</td>\n",
       "      <td>fire</td>\n",
       "      <td>NaN</td>\n",
       "      <td>Flame Pokémon</td>\n",
       "      <td>88.14</td>\n",
       "      <td>11.86</td>\n",
       "      <td>1.1</td>\n",
       "      <td>...</td>\n",
       "      <td>Level</td>\n",
       "      <td>Charmeleon</td>\n",
       "      <td>Level</td>\n",
       "      <td>Charizard</td>\n",
       "      <td>NaN</td>\n",
       "      <td>NaN</td>\n",
       "      <td>NaN</td>\n",
       "      <td>NaN</td>\n",
       "      <td>NaN</td>\n",
       "      <td>It has a barbaric nature. In battle, it whips ...</td>\n",
       "    </tr>\n",
       "  </tbody>\n",
       "</table>\n",
       "<p>5 rows × 55 columns</p>\n",
       "</div>"
      ],
      "text/plain": [
       "   national_number gen english_name japanese_name primary_type secondary_type  \\\n",
       "0                1   I    Bulbasaur   Fushigidane        grass         poison   \n",
       "1                2   I      Ivysaur    Fushigisou        grass         poison   \n",
       "2                3   I     Venusaur   Fushigibana        grass         poison   \n",
       "3                4   I   Charmander      Hitokage         fire            NaN   \n",
       "4                5   I   Charmeleon       Lizardo         fire            NaN   \n",
       "\n",
       "   classification percent_male percent_female  height_m  ...  evochain_1  \\\n",
       "0    Seed Pokémon        88.14          11.86       0.7  ...      Level    \n",
       "1    Seed Pokémon        88.14          11.86       1.0  ...      Level    \n",
       "2    Seed Pokémon        88.14          11.86       2.0  ...      Level    \n",
       "3  Lizard Pokémon        88.14          11.86       0.6  ...      Level    \n",
       "4   Flame Pokémon        88.14          11.86       1.1  ...      Level    \n",
       "\n",
       "   evochain_2  evochain_3  evochain_4  evochain_5  evochain_6  \\\n",
       "0     Ivysaur      Level     Venusaur         NaN         NaN   \n",
       "1     Ivysaur      Level     Venusaur         NaN         NaN   \n",
       "2     Ivysaur      Level     Venusaur         NaN         NaN   \n",
       "3  Charmeleon      Level    Charizard         NaN         NaN   \n",
       "4  Charmeleon      Level    Charizard         NaN         NaN   \n",
       "\n",
       "            gigantamax  mega_evolution  mega_evolution_alt  \\\n",
       "0                  NaN             NaN                 NaN   \n",
       "1                  NaN             NaN                 NaN   \n",
       "2  Gigantamax Venusaur   Mega Venusaur                 NaN   \n",
       "3                  NaN             NaN                 NaN   \n",
       "4                  NaN             NaN                 NaN   \n",
       "\n",
       "                                         description  \n",
       "0  There is a plant seed on its back right from t...  \n",
       "1  When the bulb on its back grows large, it appe...  \n",
       "2  Its plant blooms when it is absorbing solar en...  \n",
       "3  It has a preference for hot things. When it ra...  \n",
       "4  It has a barbaric nature. In battle, it whips ...  \n",
       "\n",
       "[5 rows x 55 columns]"
      ]
     },
     "execution_count": 6,
     "metadata": {},
     "output_type": "execute_result"
    }
   ],
   "source": [
    "pokemon.head()"
   ]
  },
  {
   "cell_type": "code",
   "execution_count": 7,
   "id": "456c4bee-7089-4d10-9088-3e6a98806874",
   "metadata": {},
   "outputs": [
    {
     "data": {
      "text/plain": [
       "Index(['national_number', 'gen', 'english_name', 'japanese_name',\n",
       "       'primary_type', 'secondary_type', 'classification', 'percent_male',\n",
       "       'percent_female', 'height_m', 'weight_kg', 'capture_rate',\n",
       "       'base_egg_steps', 'hp', 'attack', 'defense', 'sp_attack', 'sp_defense',\n",
       "       'speed', 'abilities_0', 'abilities_1', 'abilities_2',\n",
       "       'abilities_hidden', 'against_normal', 'against_fire', 'against_water',\n",
       "       'against_electric', 'against_grass', 'against_ice', 'against_fighting',\n",
       "       'against_poison', 'against_ground', 'against_flying', 'against_psychic',\n",
       "       'against_bug', 'against_rock', 'against_ghost', 'against_dragon',\n",
       "       'against_dark', 'against_steel', 'against_fairy', 'is_sublegendary',\n",
       "       'is_legendary', 'is_mythical', 'evochain_0', 'evochain_1', 'evochain_2',\n",
       "       'evochain_3', 'evochain_4', 'evochain_5', 'evochain_6', 'gigantamax',\n",
       "       'mega_evolution', 'mega_evolution_alt', 'description'],\n",
       "      dtype='object')"
      ]
     },
     "execution_count": 7,
     "metadata": {},
     "output_type": "execute_result"
    }
   ],
   "source": [
    "pokemon.columns"
   ]
  },
  {
   "cell_type": "code",
   "execution_count": 8,
   "id": "7b987355-4ff5-417f-814e-bf6b348f1087",
   "metadata": {},
   "outputs": [
    {
     "data": {
      "text/plain": [
       "pandas.core.frame.DataFrame"
      ]
     },
     "execution_count": 8,
     "metadata": {},
     "output_type": "execute_result"
    }
   ],
   "source": [
    "type(pokemon)"
   ]
  },
  {
   "cell_type": "code",
   "execution_count": 9,
   "id": "622e1ac8-03bf-42ae-b641-2afd92830d63",
   "metadata": {},
   "outputs": [
    {
     "data": {
      "text/plain": [
       "0       Bulbasaur\n",
       "1         Ivysaur\n",
       "2        Venusaur\n",
       "3      Charmander\n",
       "4      Charmeleon\n",
       "          ...    \n",
       "893     Regieleki\n",
       "894     Regidrago\n",
       "895     Glastrier\n",
       "896     Spectrier\n",
       "897       Calyrex\n",
       "Name: english_name, Length: 898, dtype: object"
      ]
     },
     "execution_count": 9,
     "metadata": {},
     "output_type": "execute_result"
    }
   ],
   "source": [
    "pokemon[\"english_name\"]"
   ]
  },
  {
   "cell_type": "code",
   "execution_count": 10,
   "id": "64ce5292-7e40-4c5e-8624-f4f03c0ae99f",
   "metadata": {},
   "outputs": [
    {
     "data": {
      "text/plain": [
       "898"
      ]
     },
     "execution_count": 10,
     "metadata": {},
     "output_type": "execute_result"
    }
   ],
   "source": [
    "len(pokemon[\"english_name\"])"
   ]
  },
  {
   "cell_type": "code",
   "execution_count": 15,
   "id": "b982c6a1-227e-41c7-bdce-aecf33f4a9cf",
   "metadata": {},
   "outputs": [
    {
     "data": {
      "text/plain": [
       "pandas.core.series.Series"
      ]
     },
     "execution_count": 15,
     "metadata": {},
     "output_type": "execute_result"
    }
   ],
   "source": [
    "type(pokemon[\"english_name\"])"
   ]
  },
  {
   "cell_type": "code",
   "execution_count": 16,
   "id": "47ac90e0-9573-45cb-8293-5f544f4e58b5",
   "metadata": {},
   "outputs": [
    {
     "data": {
      "text/plain": [
       "0       Bulbasaur\n",
       "1         Ivysaur\n",
       "2        Venusaur\n",
       "3      Charmander\n",
       "4      Charmeleon\n",
       "          ...    \n",
       "893     Regieleki\n",
       "894     Regidrago\n",
       "895     Glastrier\n",
       "896     Spectrier\n",
       "897       Calyrex\n",
       "Name: english_name, Length: 898, dtype: object"
      ]
     },
     "execution_count": 16,
     "metadata": {},
     "output_type": "execute_result"
    }
   ],
   "source": [
    "pokemon.english_name"
   ]
  },
  {
   "cell_type": "code",
   "execution_count": 17,
   "id": "06690297-62d1-4c06-b80c-d21929d06148",
   "metadata": {},
   "outputs": [],
   "source": [
    "# dtype = data type"
   ]
  },
  {
   "cell_type": "code",
   "execution_count": 18,
   "id": "f7bd88b8-573b-44fc-89dd-b1a0ad3ad03f",
   "metadata": {},
   "outputs": [
    {
     "data": {
      "text/plain": [
       "national_number         int64\n",
       "gen                    object\n",
       "english_name           object\n",
       "japanese_name          object\n",
       "primary_type           object\n",
       "secondary_type         object\n",
       "classification         object\n",
       "percent_male           object\n",
       "percent_female         object\n",
       "height_m              float64\n",
       "weight_kg             float64\n",
       "capture_rate           object\n",
       "base_egg_steps          int64\n",
       "hp                      int64\n",
       "attack                  int64\n",
       "defense                 int64\n",
       "sp_attack               int64\n",
       "sp_defense              int64\n",
       "speed                   int64\n",
       "abilities_0            object\n",
       "abilities_1            object\n",
       "abilities_2            object\n",
       "abilities_hidden       object\n",
       "against_normal        float64\n",
       "against_fire          float64\n",
       "against_water         float64\n",
       "against_electric      float64\n",
       "against_grass         float64\n",
       "against_ice           float64\n",
       "against_fighting      float64\n",
       "against_poison        float64\n",
       "against_ground        float64\n",
       "against_flying        float64\n",
       "against_psychic       float64\n",
       "against_bug           float64\n",
       "against_rock          float64\n",
       "against_ghost         float64\n",
       "against_dragon        float64\n",
       "against_dark          float64\n",
       "against_steel         float64\n",
       "against_fairy         float64\n",
       "is_sublegendary         int64\n",
       "is_legendary            int64\n",
       "is_mythical             int64\n",
       "evochain_0             object\n",
       "evochain_1             object\n",
       "evochain_2             object\n",
       "evochain_3             object\n",
       "evochain_4             object\n",
       "evochain_5             object\n",
       "evochain_6             object\n",
       "gigantamax             object\n",
       "mega_evolution         object\n",
       "mega_evolution_alt     object\n",
       "description            object\n",
       "dtype: object"
      ]
     },
     "execution_count": 18,
     "metadata": {},
     "output_type": "execute_result"
    }
   ],
   "source": [
    "pokemon.dtypes"
   ]
  },
  {
   "cell_type": "code",
   "execution_count": 20,
   "id": "c5260e89-8739-40e9-9200-1dd0befceae3",
   "metadata": {},
   "outputs": [
    {
     "data": {
      "text/plain": [
       "dtype('O')"
      ]
     },
     "execution_count": 20,
     "metadata": {},
     "output_type": "execute_result"
    }
   ],
   "source": [
    "pokemon[\"description\"].dtype"
   ]
  },
  {
   "cell_type": "code",
   "execution_count": null,
   "id": "b2d087f8-08db-4d03-a1fb-85ccf30d303f",
   "metadata": {},
   "outputs": [],
   "source": []
  }
 ],
 "metadata": {
  "kernelspec": {
   "display_name": "Python 3 (ipykernel)",
   "language": "python",
   "name": "python3"
  },
  "language_info": {
   "codemirror_mode": {
    "name": "ipython",
    "version": 3
   },
   "file_extension": ".py",
   "mimetype": "text/x-python",
   "name": "python",
   "nbconvert_exporter": "python",
   "pygments_lexer": "ipython3",
   "version": "3.12.0"
  }
 },
 "nbformat": 4,
 "nbformat_minor": 5
}
